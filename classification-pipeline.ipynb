{
 "cells": [
  {
   "cell_type": "code",
   "execution_count": 17,
   "metadata": {},
   "outputs": [],
   "source": [
    "import pandas as pd\n",
    "import numpy as np\n",
    "\n",
    "from sklearn.utils import shuffle\n",
    "\n",
    "from sklearn.metrics import classification_report\n",
    "from sklearn.model_selection import cross_val_score\n",
    "\n",
    "from sklearn.pipeline import FeatureUnion, Pipeline\n",
    "from sklearn.preprocessing import FunctionTransformer, MaxAbsScaler\n",
    "from sklearn.impute import SimpleImputer as Imputer # if we also look at numeric features\n",
    "from sklearn.feature_extraction.text import CountVectorizer, HashingVectorizer\n",
    "from sklearn.feature_selection import chi2, SelectKBest\n",
    "from sklearn.model_selection import train_test_split\n",
    "\n",
    "from utils import combine_text_columns, SparseInteractions\n",
    "\n",
    "from sklearn.ensemble import RandomForestClassifier\n",
    "from sklearn.multiclass import OneVsRestClassifier\n",
    "from sklearn.linear_model import LogisticRegression\n",
    "from sklearn.svm import SVC, LinearSVC\n",
    "from sklearn.naive_bayes import MultinomialNB\n",
    "\n",
    "df = pd.read_csv(\"data/training_set.csv\")\n",
    "\n",
    "SCORING_METRIC = \"roc_auc\"\n",
    "\n",
    "FEATURES = [\"Description\"]\n",
    "LABEL = \"Category\"\n",
    "NON_LABELS = [c for c in df.columns if c != LABEL]\n",
    "\n",
    "# Select k best features in text vectors\n",
    "chi_k = 300\n",
    "\n",
    "TOKENS_ALPHANUMERIC = '[A-Za-z0-9]+(?=\\\\s+)'\n",
    "\n",
    "dummy_labels = pd.get_dummies(df[LABEL])\n",
    "\n",
    "X_train, X_test, y_train, y_test = train_test_split(df[NON_LABELS], dummy_labels, random_state=42)\n",
    "\n",
    "get_text_data = FunctionTransformer(lambda x: combine_text_columns(x, to_drop=[LABEL]), validate=False)\n",
    "\n",
    "\n",
    "pl = Pipeline([\n",
    "        ('feature_preprocessing ', FeatureUnion(\n",
    "            transformer_list = [\n",
    "                ('text_features', Pipeline([\n",
    "                    ('selector', get_text_data),\n",
    "                    ('vectorizer', CountVectorizer(token_pattern=TOKENS_ALPHANUMERIC,\n",
    "                                                   ngram_range=(1, 2))),\n",
    "                    #('vectorizer', HashingVectorizer(token_pattern=TOKENS_ALPHANUMERIC,\n",
    "                    #                                 alternate_sign=False, norm=None, binary=False,\n",
    "                    #                                 ngram_range=(1, 2))),\n",
    "                    ('dim_red', SelectKBest(chi2, k=chi_k))\n",
    "                ]))\n",
    "             ]\n",
    "        )),\n",
    "        #('int', SparseInteractions(degree=2)),\n",
    "        ('scale', MaxAbsScaler()),\n",
    "        ('clf', OneVsRestClassifier(LogisticRegression(), n_jobs=-1))\n",
    "    ])"
   ]
  },
  {
   "cell_type": "code",
   "execution_count": 18,
   "metadata": {},
   "outputs": [
    {
     "name": "stdout",
     "output_type": "stream",
     "text": [
      "\n",
      "Mean cross validated roc_auc score: 0.6715116157021452\n",
      "\n",
      "Score on fold 0: 0.7465509606504631\n",
      "Score on fold 1: 0.7063237260580127\n",
      "Score on fold 2: 0.6259386071683298\n",
      "Score on fold 3: 0.6460420063812445\n",
      "Score on fold 4: 0.632702778252676\n"
     ]
    }
   ],
   "source": [
    "cv = cross_val_score(pl, X_train, y_train, cv=5, scoring=SCORING_METRIC)\n",
    "\n",
    "print(f\"\\nMean cross validated {SCORING_METRIC} score: {np.mean(cv)}\\n\")\n",
    "\n",
    "for fold, score in enumerate(cv):\n",
    "    print(f\"Score on fold {fold}: {score}\")\n"
   ]
  },
  {
   "cell_type": "code",
   "execution_count": 19,
   "metadata": {},
   "outputs": [
    {
     "name": "stdout",
     "output_type": "stream",
     "text": [
      "\n",
      "               precision    recall  f1-score   support\n",
      "\n",
      "           0       1.00      0.11      0.20        18\n",
      "           1       0.00      0.00      0.00         7\n",
      "           2       0.00      0.00      0.00         8\n",
      "           3       0.69      0.46      0.55       340\n",
      "           4       1.00      0.07      0.13        14\n",
      "           5       0.68      0.81      0.74       428\n",
      "\n",
      "   micro avg       0.69      0.62      0.65       815\n",
      "   macro avg       0.56      0.24      0.27       815\n",
      "weighted avg       0.69      0.62      0.63       815\n",
      " samples avg       0.62      0.62      0.62       815\n",
      "\n"
     ]
    },
    {
     "name": "stderr",
     "output_type": "stream",
     "text": [
      "C:\\Users\\Wiktor\\AppData\\Local\\Programs\\Python\\Python310\\lib\\site-packages\\sklearn\\metrics\\_classification.py:1318: UndefinedMetricWarning: Precision and F-score are ill-defined and being set to 0.0 in labels with no predicted samples. Use `zero_division` parameter to control this behavior.\n",
      "  _warn_prf(average, modifier, msg_start, len(result))\n",
      "C:\\Users\\Wiktor\\AppData\\Local\\Programs\\Python\\Python310\\lib\\site-packages\\sklearn\\metrics\\_classification.py:1318: UndefinedMetricWarning: Precision and F-score are ill-defined and being set to 0.0 in samples with no predicted labels. Use `zero_division` parameter to control this behavior.\n",
      "  _warn_prf(average, modifier, msg_start, len(result))\n"
     ]
    }
   ],
   "source": [
    "pl.fit(X_train, y_train)\n",
    "y_pred = pl.predict(X_test)\n",
    "print(\"\\n\", classification_report(y_test, y_pred))"
   ]
  },
  {
   "cell_type": "code",
   "execution_count": 10,
   "metadata": {},
   "outputs": [
    {
     "data": {
      "text/plain": [
       "Text(0.5, 0, 'Number of ocurrences')"
      ]
     },
     "execution_count": 10,
     "metadata": {},
     "output_type": "execute_result"
    },
    {
     "data": {
      "image/png": "[encoded data removed]",
      "text/plain": [
       "<Figure size 576x432 with 1 Axes>"
      ]
     },
     "metadata": {},
     "output_type": "display_data"
    }
   ],
   "source": [
    "import matplotlib.pyplot as plt\n",
    "import seaborn as sns\n",
    "\n",
    "# set custom sns style\n",
    "sns.set(style=\"whitegrid\")\n",
    "\n",
    "fig = plt.figure(figsize=(8,6))\n",
    "df.groupby(LABEL)[FEATURES[0]].count().sort_values().plot.barh(\n",
    "    ylim = 0, \n",
    "    title = 'Number of documents in each category'\n",
    "    )\n",
    "plt.xlabel('Number of ocurrences', fontsize = 10)"
   ]
  },
  {
   "cell_type": "code",
   "execution_count": 20,
   "metadata": {},
   "outputs": [
    {
     "ename": "ValueError",
     "evalue": "multilabel-indicator is not supported",
     "output_type": "error",
     "traceback": [
      "\u001b[1;31m---------------------------------------------------------------------------\u001b[0m",
      "\u001b[1;31mValueError\u001b[0m                                Traceback (most recent call last)",
      "\u001b[1;32mc:\\Users\\Wiktor\\code\\text-classification\\classification-pipeline.ipynb Cell 5'\u001b[0m in \u001b[0;36m<cell line: 4>\u001b[1;34m()\u001b[0m\n\u001b[0;32m      <a href='vscode-notebook-cell:/c%3A/Users/Wiktor/code/text-classification/classification-pipeline.ipynb#ch0000007?line=0'>1</a>\u001b[0m \u001b[39mfrom\u001b[39;00m \u001b[39msklearn\u001b[39;00m\u001b[39m.\u001b[39;00m\u001b[39mmetrics\u001b[39;00m \u001b[39mimport\u001b[39;00m confusion_matrix\n\u001b[0;32m      <a href='vscode-notebook-cell:/c%3A/Users/Wiktor/code/text-classification/classification-pipeline.ipynb#ch0000007?line=1'>2</a>\u001b[0m \u001b[39mfrom\u001b[39;00m \u001b[39msklearn\u001b[39;00m \u001b[39mimport\u001b[39;00m metrics\n\u001b[1;32m----> <a href='vscode-notebook-cell:/c%3A/Users/Wiktor/code/text-classification/classification-pipeline.ipynb#ch0000007?line=3'>4</a>\u001b[0m conf_mat \u001b[39m=\u001b[39m confusion_matrix(y_test, y_pred)\n\u001b[0;32m      <a href='vscode-notebook-cell:/c%3A/Users/Wiktor/code/text-classification/classification-pipeline.ipynb#ch0000007?line=4'>5</a>\u001b[0m fig, ax \u001b[39m=\u001b[39m plt\u001b[39m.\u001b[39msubplots(figsize\u001b[39m=\u001b[39m(\u001b[39m8\u001b[39m,\u001b[39m8\u001b[39m))\n\u001b[0;32m      <a href='vscode-notebook-cell:/c%3A/Users/Wiktor/code/text-classification/classification-pipeline.ipynb#ch0000007?line=5'>6</a>\u001b[0m sns\u001b[39m.\u001b[39mheatmap(conf_mat, annot\u001b[39m=\u001b[39m\u001b[39mTrue\u001b[39;00m, cmap\u001b[39m=\u001b[39m\u001b[39m\"\u001b[39m\u001b[39mBlues\u001b[39m\u001b[39m\"\u001b[39m, fmt\u001b[39m=\u001b[39m\u001b[39m'\u001b[39m\u001b[39md\u001b[39m\u001b[39m'\u001b[39m,\n\u001b[0;32m      <a href='vscode-notebook-cell:/c%3A/Users/Wiktor/code/text-classification/classification-pipeline.ipynb#ch0000007?line=6'>7</a>\u001b[0m             xticklabels\u001b[39m=\u001b[39mcategory_id_df\u001b[39m.\u001b[39mCategory\u001b[39m.\u001b[39mvalues, \n\u001b[0;32m      <a href='vscode-notebook-cell:/c%3A/Users/Wiktor/code/text-classification/classification-pipeline.ipynb#ch0000007?line=7'>8</a>\u001b[0m             yticklabels\u001b[39m=\u001b[39mcategory_id_df\u001b[39m.\u001b[39mCategory\u001b[39m.\u001b[39mvalues)\n",
      "File \u001b[1;32m~\\AppData\\Local\\Programs\\Python\\Python310\\lib\\site-packages\\sklearn\\metrics\\_classification.py:309\u001b[0m, in \u001b[0;36mconfusion_matrix\u001b[1;34m(y_true, y_pred, labels, sample_weight, normalize)\u001b[0m\n\u001b[0;32m    <a href='file:///c%3A/Users/Wiktor/AppData/Local/Programs/Python/Python310/lib/site-packages/sklearn/metrics/_classification.py?line=306'>307</a>\u001b[0m y_type, y_true, y_pred \u001b[39m=\u001b[39m _check_targets(y_true, y_pred)\n\u001b[0;32m    <a href='file:///c%3A/Users/Wiktor/AppData/Local/Programs/Python/Python310/lib/site-packages/sklearn/metrics/_classification.py?line=307'>308</a>\u001b[0m \u001b[39mif\u001b[39;00m y_type \u001b[39mnot\u001b[39;00m \u001b[39min\u001b[39;00m (\u001b[39m\"\u001b[39m\u001b[39mbinary\u001b[39m\u001b[39m\"\u001b[39m, \u001b[39m\"\u001b[39m\u001b[39mmulticlass\u001b[39m\u001b[39m\"\u001b[39m):\n\u001b[1;32m--> <a href='file:///c%3A/Users/Wiktor/AppData/Local/Programs/Python/Python310/lib/site-packages/sklearn/metrics/_classification.py?line=308'>309</a>\u001b[0m     \u001b[39mraise\u001b[39;00m \u001b[39mValueError\u001b[39;00m(\u001b[39m\"\u001b[39m\u001b[39m%s\u001b[39;00m\u001b[39m is not supported\u001b[39m\u001b[39m\"\u001b[39m \u001b[39m%\u001b[39m y_type)\n\u001b[0;32m    <a href='file:///c%3A/Users/Wiktor/AppData/Local/Programs/Python/Python310/lib/site-packages/sklearn/metrics/_classification.py?line=310'>311</a>\u001b[0m \u001b[39mif\u001b[39;00m labels \u001b[39mis\u001b[39;00m \u001b[39mNone\u001b[39;00m:\n\u001b[0;32m    <a href='file:///c%3A/Users/Wiktor/AppData/Local/Programs/Python/Python310/lib/site-packages/sklearn/metrics/_classification.py?line=311'>312</a>\u001b[0m     labels \u001b[39m=\u001b[39m unique_labels(y_true, y_pred)\n",
      "\u001b[1;31mValueError\u001b[0m: multilabel-indicator is not supported"
     ]
    }
   ],
   "source": [
    "from sklearn.metrics import confusion_matrix\n",
    "from sklearn import metrics\n",
    "\n",
    "conf_mat = confusion_matrix(y_test, y_pred)\n",
    "fig, ax = plt.subplots(figsize=(8,8))\n",
    "sns.heatmap(conf_mat, annot=True, cmap=\"Blues\", fmt='d',\n",
    "            xticklabels=df[LABEL].values, \n",
    "            yticklabels=df[LABEL].values)\n",
    "plt.ylabel('Actual')\n",
    "plt.xlabel('Predicted')\n",
    "plt.title(\"CONFUSION MATRIX - LinearSVC\", size=16)"
   ]
  },
  {
   "cell_type": "code",
   "execution_count": null,
   "metadata": {},
   "outputs": [],
   "source": []
  }
 ],
 "metadata": {
  "interpreter": {
   "hash": "a147fe3e9c6407a289b946e3945f04ff97327943be5259b126501dd191e22cc0"
  },
  "kernelspec": {
   "display_name": "Python 3.10.4 64-bit",
   "language": "python",
   "name": "python3"
  },
  "language_info": {
   "codemirror_mode": {
    "name": "ipython",
    "version": 3
   },
   "file_extension": ".py",
   "mimetype": "text/x-python",
   "name": "python",
   "nbconvert_exporter": "python",
   "pygments_lexer": "ipython3",
   "version": "3.10.4"
  },
  "orig_nbformat": 4
 },
 "nbformat": 4,
 "nbformat_minor": 2
}
