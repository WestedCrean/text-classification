{
 "cells": [
  {
   "cell_type": "code",
   "execution_count": 4,
   "id": "b6ddc7a2-c722-44b5-88f8-f4c0c8abe12c",
   "metadata": {
    "execution": {
     "iopub.execute_input": "2022-05-06T19:26:08.078350Z",
     "iopub.status.busy": "2022-05-06T19:26:08.077522Z",
     "iopub.status.idle": "2022-05-06T19:26:08.856737Z",
     "shell.execute_reply": "2022-05-06T19:26:08.855696Z",
     "shell.execute_reply.started": "2022-05-06T19:26:08.078160Z"
    }
   },
   "outputs": [
    {
     "name": "stdout",
     "output_type": "stream",
     "text": [
      "<class 'pandas.core.frame.DataFrame'>\n",
      "RangeIndex: 4076 entries, 0 to 4075\n",
      "Data columns (total 11 columns):\n",
      " #   Column           Non-Null Count  Dtype \n",
      "---  ------           --------------  ----- \n",
      " 0   Index            4076 non-null   int64 \n",
      " 1   Author           4076 non-null   object\n",
      " 2   Date published   4076 non-null   object\n",
      " 3   Category         4076 non-null   object\n",
      " 4   Section          4076 non-null   object\n",
      " 5   Url              4076 non-null   object\n",
      " 6   Headline         4076 non-null   object\n",
      " 7   Description      4076 non-null   object\n",
      " 8   Keywords         4076 non-null   object\n",
      " 9   Second headline  4076 non-null   object\n",
      " 10  Article text     4076 non-null   object\n",
      "dtypes: int64(1), object(10)\n",
      "memory usage: 350.4+ KB\n"
     ]
    }
   ],
   "source": [
    "import pandas as pd\n",
    "import numpy as np\n",
    "import matplotlib.pyplot as plt\n",
    "\n",
    "\n",
    "texts = pd.read_csv(\"data/CNN_Articels_clean.csv\")\n",
    "texts.info()"
   ]
  },
  {
   "cell_type": "code",
   "execution_count": 5,
   "id": "198ea361-1ebe-4ba1-9ffe-0abb286d710f",
   "metadata": {
    "execution": {
     "iopub.execute_input": "2022-05-06T19:26:08.859049Z",
     "iopub.status.busy": "2022-05-06T19:26:08.858161Z",
     "iopub.status.idle": "2022-05-06T19:26:08.943955Z",
     "shell.execute_reply": "2022-05-06T19:26:08.942900Z",
     "shell.execute_reply.started": "2022-05-06T19:26:08.858923Z"
    }
   },
   "outputs": [
    {
     "data": {
      "text/html": [
       "<div>\n",
       "<style scoped>\n",
       "    .dataframe tbody tr th:only-of-type {\n",
       "        vertical-align: middle;\n",
       "    }\n",
       "\n",
       "    .dataframe tbody tr th {\n",
       "        vertical-align: top;\n",
       "    }\n",
       "\n",
       "    .dataframe thead th {\n",
       "        text-align: right;\n",
       "    }\n",
       "</style>\n",
       "<table border=\"1\" class=\"dataframe\">\n",
       "  <thead>\n",
       "    <tr style=\"text-align: right;\">\n",
       "      <th></th>\n",
       "      <th>Index</th>\n",
       "      <th>Author</th>\n",
       "      <th>Date published</th>\n",
       "      <th>Category</th>\n",
       "      <th>Section</th>\n",
       "      <th>Url</th>\n",
       "      <th>Headline</th>\n",
       "      <th>Description</th>\n",
       "      <th>Keywords</th>\n",
       "      <th>Second headline</th>\n",
       "      <th>Article text</th>\n",
       "    </tr>\n",
       "  </thead>\n",
       "  <tbody>\n",
       "    <tr>\n",
       "      <th>1679</th>\n",
       "      <td>2307</td>\n",
       "      <td>Ben Morse, CNN</td>\n",
       "      <td>2021-04-06 22:27:09</td>\n",
       "      <td>sport</td>\n",
       "      <td>golf</td>\n",
       "      <td>https://www.cnn.com/2021/04/06/golf/bryson-dec...</td>\n",
       "      <td>The Masters: Bryson DeChambeau optimistic new ...</td>\n",
       "      <td>Bryson DeChambeau has muscled his way to becom...</td>\n",
       "      <td>golf, The Masters: Bryson DeChambeau optimisti...</td>\n",
       "      <td>Bryson DeChambeau optimistic new driver will h...</td>\n",
       "      <td>(CNN)Bryson DeChambeau has muscled his way to...</td>\n",
       "    </tr>\n",
       "    <tr>\n",
       "      <th>3378</th>\n",
       "      <td>4020</td>\n",
       "      <td>Rodrigo Pedroso, for CNN</td>\n",
       "      <td>2021-10-07 07:26:49</td>\n",
       "      <td>sport</td>\n",
       "      <td>football</td>\n",
       "      <td>https://www.cnn.com/2021/10/07/football/brazil...</td>\n",
       "      <td>William Ribeiro: Brazilian footballer charged ...</td>\n",
       "      <td>A Brazilian footballer is facing a charge of a...</td>\n",
       "      <td>football, William Ribeiro: Brazilian footballe...</td>\n",
       "      <td>William Ribeiro: Brazilian footballer charged ...</td>\n",
       "      <td>(CNN)A Brazilian footballer is facing a charg...</td>\n",
       "    </tr>\n",
       "  </tbody>\n",
       "</table>\n",
       "</div>"
      ],
      "text/plain": [
       "      Index                    Author       Date published Category   Section  \\\n",
       "1679   2307            Ben Morse, CNN  2021-04-06 22:27:09    sport      golf   \n",
       "3378   4020  Rodrigo Pedroso, for CNN  2021-10-07 07:26:49    sport  football   \n",
       "\n",
       "                                                    Url  \\\n",
       "1679  https://www.cnn.com/2021/04/06/golf/bryson-dec...   \n",
       "3378  https://www.cnn.com/2021/10/07/football/brazil...   \n",
       "\n",
       "                                               Headline  \\\n",
       "1679  The Masters: Bryson DeChambeau optimistic new ...   \n",
       "3378  William Ribeiro: Brazilian footballer charged ...   \n",
       "\n",
       "                                            Description  \\\n",
       "1679  Bryson DeChambeau has muscled his way to becom...   \n",
       "3378  A Brazilian footballer is facing a charge of a...   \n",
       "\n",
       "                                               Keywords  \\\n",
       "1679  golf, The Masters: Bryson DeChambeau optimisti...   \n",
       "3378  football, William Ribeiro: Brazilian footballe...   \n",
       "\n",
       "                                        Second headline  \\\n",
       "1679  Bryson DeChambeau optimistic new driver will h...   \n",
       "3378  William Ribeiro: Brazilian footballer charged ...   \n",
       "\n",
       "                                           Article text  \n",
       "1679   (CNN)Bryson DeChambeau has muscled his way to...  \n",
       "3378   (CNN)A Brazilian footballer is facing a charg...  "
      ]
     },
     "execution_count": 5,
     "metadata": {},
     "output_type": "execute_result"
    }
   ],
   "source": [
    "texts.sample(2)"
   ]
  },
  {
   "cell_type": "code",
   "execution_count": 6,
   "id": "7bfd78e8-a09e-43d4-af6d-6c4f7d73d2b2",
   "metadata": {
    "execution": {
     "iopub.execute_input": "2022-05-06T19:26:08.945659Z",
     "iopub.status.busy": "2022-05-06T19:26:08.945274Z",
     "iopub.status.idle": "2022-05-06T19:26:09.454776Z",
     "shell.execute_reply": "2022-05-06T19:26:09.453661Z",
     "shell.execute_reply.started": "2022-05-06T19:26:08.945630Z"
    }
   },
   "outputs": [],
   "source": [
    "from sklearn import metrics\n",
    "from sklearn import model_selection\n",
    "\n",
    "X = texts[\"Description\"]\n",
    "y = texts[\"Category\"]\n",
    "\n",
    "X_train, X_validation, y_train, y_validation = model_selection.train_test_split(X, y, test_size=0.2, random_state=42)\n",
    "\n",
    "# validation set\n",
    "df = pd.DataFrame({\"Description\": X_validation, \"Category\": y_validation})\n",
    "df.to_csv(\"data/validation_set.csv\")\n",
    "\n",
    "# training set\n",
    "df = pd.DataFrame({\"Description\": X_train, \"Category\": y_train})\n",
    "df.to_csv(\"data/training_set.csv\")"
   ]
  }
 ],
 "metadata": {
  "kernelspec": {
   "display_name": "Python 3 (ipykernel)",
   "language": "python",
   "name": "python3"
  },
  "language_info": {
   "codemirror_mode": {
    "name": "ipython",
    "version": 3
   },
   "file_extension": ".py",
   "mimetype": "text/x-python",
   "name": "python",
   "nbconvert_exporter": "python",
   "pygments_lexer": "ipython3",
   "version": "3.8.10"
  }
 },
 "nbformat": 4,
 "nbformat_minor": 5
}
